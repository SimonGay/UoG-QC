{
 "cells": [
  {
   "cell_type": "code",
   "execution_count": 1,
   "id": "3975cc95-2600-48ed-b41b-4c32ba0f02a4",
   "metadata": {},
   "outputs": [
    {
     "name": "stdout",
     "output_type": "stream",
     "text": [
      "Requirement already satisfied: qiskit==1.2.4 in /home/jovyan/.qbraid/environments/qbraid_sdk_9j9sjy/pyenv/lib/python3.11/site-packages (1.2.4)\n",
      "Requirement already satisfied: rustworkx>=0.15.0 in /home/jovyan/.qbraid/environments/qbraid_sdk_9j9sjy/pyenv/lib/python3.11/site-packages (from qiskit==1.2.4) (0.15.1)\n",
      "Requirement already satisfied: numpy<3,>=1.17 in /home/jovyan/.qbraid/environments/qbraid_sdk_9j9sjy/pyenv/lib/python3.11/site-packages (from qiskit==1.2.4) (1.26.4)\n",
      "Requirement already satisfied: scipy>=1.5 in /home/jovyan/.qbraid/environments/qbraid_sdk_9j9sjy/pyenv/lib/python3.11/site-packages (from qiskit==1.2.4) (1.14.1)\n",
      "Requirement already satisfied: sympy>=1.3 in /home/jovyan/.qbraid/environments/qbraid_sdk_9j9sjy/pyenv/lib/python3.11/site-packages (from qiskit==1.2.4) (1.13.3)\n",
      "Requirement already satisfied: dill>=0.3 in /home/jovyan/.qbraid/environments/qbraid_sdk_9j9sjy/pyenv/lib/python3.11/site-packages (from qiskit==1.2.4) (0.3.9)\n",
      "Requirement already satisfied: python-dateutil>=2.8.0 in /home/jovyan/.qbraid/environments/qbraid_sdk_9j9sjy/pyenv/lib/python3.11/site-packages (from qiskit==1.2.4) (2.9.0.post0)\n",
      "Requirement already satisfied: stevedore>=3.0.0 in /home/jovyan/.qbraid/environments/qbraid_sdk_9j9sjy/pyenv/lib/python3.11/site-packages (from qiskit==1.2.4) (5.3.0)\n",
      "Requirement already satisfied: typing-extensions in /home/jovyan/.qbraid/environments/qbraid_sdk_9j9sjy/pyenv/lib/python3.11/site-packages (from qiskit==1.2.4) (4.12.2)\n",
      "Requirement already satisfied: symengine<0.14,>=0.11 in /home/jovyan/.qbraid/environments/qbraid_sdk_9j9sjy/pyenv/lib/python3.11/site-packages (from qiskit==1.2.4) (0.13.0)\n",
      "Requirement already satisfied: six>=1.5 in /home/jovyan/.qbraid/environments/qbraid_sdk_9j9sjy/pyenv/lib/python3.11/site-packages (from python-dateutil>=2.8.0->qiskit==1.2.4) (1.16.0)\n",
      "Requirement already satisfied: pbr>=2.0.0 in /home/jovyan/.qbraid/environments/qbraid_sdk_9j9sjy/pyenv/lib/python3.11/site-packages (from stevedore>=3.0.0->qiskit==1.2.4) (6.1.0)\n",
      "Requirement already satisfied: mpmath<1.4,>=1.1.0 in /home/jovyan/.qbraid/environments/qbraid_sdk_9j9sjy/pyenv/lib/python3.11/site-packages (from sympy>=1.3->qiskit==1.2.4) (1.3.0)\n",
      "\n",
      "\u001b[1m[\u001b[0m\u001b[34;49mnotice\u001b[0m\u001b[1;39;49m]\u001b[0m\u001b[39;49m A new release of pip is available: \u001b[0m\u001b[31;49m24.2\u001b[0m\u001b[39;49m -> \u001b[0m\u001b[32;49m24.3.1\u001b[0m\n",
      "\u001b[1m[\u001b[0m\u001b[34;49mnotice\u001b[0m\u001b[1;39;49m]\u001b[0m\u001b[39;49m To update, run: \u001b[0m\u001b[32;49mpython -m pip install --upgrade pip\u001b[0m\n",
      "Note: you may need to restart the kernel to use updated packages.\n",
      "Requirement already satisfied: qiskit-aer==0.15.1 in /home/jovyan/.qbraid/environments/qbraid_sdk_9j9sjy/pyenv/lib/python3.11/site-packages (0.15.1)\n",
      "Requirement already satisfied: qiskit>=1.1.0 in /home/jovyan/.qbraid/environments/qbraid_sdk_9j9sjy/pyenv/lib/python3.11/site-packages (from qiskit-aer==0.15.1) (1.2.4)\n",
      "Requirement already satisfied: numpy>=1.16.3 in /home/jovyan/.qbraid/environments/qbraid_sdk_9j9sjy/pyenv/lib/python3.11/site-packages (from qiskit-aer==0.15.1) (1.26.4)\n",
      "Requirement already satisfied: scipy>=1.0 in /home/jovyan/.qbraid/environments/qbraid_sdk_9j9sjy/pyenv/lib/python3.11/site-packages (from qiskit-aer==0.15.1) (1.14.1)\n",
      "Requirement already satisfied: psutil>=5 in /opt/conda/lib/python3.11/site-packages (from qiskit-aer==0.15.1) (5.9.8)\n",
      "Requirement already satisfied: rustworkx>=0.15.0 in /home/jovyan/.qbraid/environments/qbraid_sdk_9j9sjy/pyenv/lib/python3.11/site-packages (from qiskit>=1.1.0->qiskit-aer==0.15.1) (0.15.1)\n",
      "Requirement already satisfied: sympy>=1.3 in /home/jovyan/.qbraid/environments/qbraid_sdk_9j9sjy/pyenv/lib/python3.11/site-packages (from qiskit>=1.1.0->qiskit-aer==0.15.1) (1.13.3)\n",
      "Requirement already satisfied: dill>=0.3 in /home/jovyan/.qbraid/environments/qbraid_sdk_9j9sjy/pyenv/lib/python3.11/site-packages (from qiskit>=1.1.0->qiskit-aer==0.15.1) (0.3.9)\n",
      "Requirement already satisfied: python-dateutil>=2.8.0 in /home/jovyan/.qbraid/environments/qbraid_sdk_9j9sjy/pyenv/lib/python3.11/site-packages (from qiskit>=1.1.0->qiskit-aer==0.15.1) (2.9.0.post0)\n",
      "Requirement already satisfied: stevedore>=3.0.0 in /home/jovyan/.qbraid/environments/qbraid_sdk_9j9sjy/pyenv/lib/python3.11/site-packages (from qiskit>=1.1.0->qiskit-aer==0.15.1) (5.3.0)\n",
      "Requirement already satisfied: typing-extensions in /home/jovyan/.qbraid/environments/qbraid_sdk_9j9sjy/pyenv/lib/python3.11/site-packages (from qiskit>=1.1.0->qiskit-aer==0.15.1) (4.12.2)\n",
      "Requirement already satisfied: symengine<0.14,>=0.11 in /home/jovyan/.qbraid/environments/qbraid_sdk_9j9sjy/pyenv/lib/python3.11/site-packages (from qiskit>=1.1.0->qiskit-aer==0.15.1) (0.13.0)\n",
      "Requirement already satisfied: six>=1.5 in /home/jovyan/.qbraid/environments/qbraid_sdk_9j9sjy/pyenv/lib/python3.11/site-packages (from python-dateutil>=2.8.0->qiskit>=1.1.0->qiskit-aer==0.15.1) (1.16.0)\n",
      "Requirement already satisfied: pbr>=2.0.0 in /home/jovyan/.qbraid/environments/qbraid_sdk_9j9sjy/pyenv/lib/python3.11/site-packages (from stevedore>=3.0.0->qiskit>=1.1.0->qiskit-aer==0.15.1) (6.1.0)\n",
      "Requirement already satisfied: mpmath<1.4,>=1.1.0 in /home/jovyan/.qbraid/environments/qbraid_sdk_9j9sjy/pyenv/lib/python3.11/site-packages (from sympy>=1.3->qiskit>=1.1.0->qiskit-aer==0.15.1) (1.3.0)\n",
      "\n",
      "\u001b[1m[\u001b[0m\u001b[34;49mnotice\u001b[0m\u001b[1;39;49m]\u001b[0m\u001b[39;49m A new release of pip is available: \u001b[0m\u001b[31;49m24.2\u001b[0m\u001b[39;49m -> \u001b[0m\u001b[32;49m24.3.1\u001b[0m\n",
      "\u001b[1m[\u001b[0m\u001b[34;49mnotice\u001b[0m\u001b[1;39;49m]\u001b[0m\u001b[39;49m To update, run: \u001b[0m\u001b[32;49mpython -m pip install --upgrade pip\u001b[0m\n",
      "Note: you may need to restart the kernel to use updated packages.\n",
      "Requirement already satisfied: pylatexenc==2.10 in /home/jovyan/.qbraid/environments/qbraid_sdk_9j9sjy/pyenv/lib/python3.11/site-packages (2.10)\n",
      "\n",
      "\u001b[1m[\u001b[0m\u001b[34;49mnotice\u001b[0m\u001b[1;39;49m]\u001b[0m\u001b[39;49m A new release of pip is available: \u001b[0m\u001b[31;49m24.2\u001b[0m\u001b[39;49m -> \u001b[0m\u001b[32;49m24.3.1\u001b[0m\n",
      "\u001b[1m[\u001b[0m\u001b[34;49mnotice\u001b[0m\u001b[1;39;49m]\u001b[0m\u001b[39;49m To update, run: \u001b[0m\u001b[32;49mpython -m pip install --upgrade pip\u001b[0m\n",
      "Note: you may need to restart the kernel to use updated packages.\n"
     ]
    }
   ],
   "source": [
    "%pip install qiskit==1.2.4\n",
    "%pip install qiskit-aer==0.15.1\n",
    "%pip install pylatexenc==2.10"
   ]
  },
  {
   "cell_type": "code",
   "execution_count": 40,
   "id": "c16cd3de-f076-496b-8661-4b1efd19a244",
   "metadata": {},
   "outputs": [],
   "source": [
    "from qiskit import QuantumCircuit\n",
    "from qiskit.converters import circuit_to_gate\n",
    "from qiskit.visualization import array_to_latex\n",
    "from qiskit.quantum_info import Operator\n",
    "from qiskit import transpile \n",
    "from qiskit.providers.basic_provider import BasicSimulator\n",
    "from qiskit.visualization import plot_histogram\n",
    "\n",
    "# Deutsch's algorithm\n",
    "# Given an unknown function f : {0,1} -> {0,1}, work out whether it is constant\n",
    "# or balanced.\n",
    "\n",
    "# There are four possible functions:\n",
    "#\n",
    "# f0 is constant 0\n",
    "# f1 is constant 1\n",
    "# f2 is the identity\n",
    "# f3 is negation\n",
    "\n",
    "# Deutsch's algorithm works with F, a quantum version of f, defined by\n",
    "#\n",
    "# F|x>|y> = |x>|f(x) XOR y>\n",
    "#\n",
    "# Explicitly define F0, F1, F2, F3 as circuits and convert them to gates.\n",
    "\n",
    "# F0 |x>|y> = |x>|y> so it's the identity function\n",
    "\n",
    "F0_circuit = QuantumCircuit(2)\n",
    "F0 = circuit_to_gate(F0_circuit,label=\"F0\")\n",
    "\n",
    "# F1 |x>|y> = |x>|NOT(y)> so it's implemented by applying X(y)\n",
    "\n",
    "F1_circuit = QuantumCircuit(2)\n",
    "F1_circuit.x(1)\n",
    "F1 = circuit_to_gate(F1_circuit,label=\"F1\")\n",
    "\n",
    "# F2 |x>|y> = |x>|x XOR y>. Work out how to implement it as a circuit\n",
    "\n",
    "F2_circuit = QuantumCircuit(2)\n",
    "# Add a gate to F2_circuit so that the function F2 is correctly implemented\n",
    "# Remember that numbering of qubits starts from the right\n",
    "F2 = circuit_to_gate(F2_circuit,label=\"F2\")\n",
    "\n",
    "# F3 |x>|y> = |x>|NOT(x) XOR y>. Work out how to implement it as a circuit\n",
    "\n",
    "F3_circuit = QuantumCircuit(2)\n",
    "# Add gates to F3_circuit so that the function F3 is correctly implemented\n",
    "# Remember that numbering of qubits starts from the right\n",
    "F3 = circuit_to_gate(F3_circuit,label=\"F3\")"
   ]
  },
  {
   "cell_type": "code",
   "execution_count": 50,
   "id": "661be3d0-5289-4868-99e3-ab33979b255f",
   "metadata": {},
   "outputs": [],
   "source": [
    "# Choose which function we want to analyse\n",
    "\n",
    "F = F3"
   ]
  },
  {
   "cell_type": "code",
   "execution_count": null,
   "id": "5f6306ee-13de-4357-873e-46f2269b4c62",
   "metadata": {},
   "outputs": [],
   "source": [
    "# Check that F is implemented correctly\n",
    "# In this cell and the next three, make sure you understand why your\n",
    "# definition of F is correct (or not).\n",
    "# Test on |00>\n",
    "test = QuantumCircuit(2) \n",
    "test.append(F,[0,1]) \n",
    "state = Statevector.from_int(0, 4) # 4 basis states on 2 qubits \n",
    "state = state.evolve(test) \n",
    "state.draw(\"latex\")"
   ]
  },
  {
   "cell_type": "code",
   "execution_count": null,
   "id": "d117f340-4629-4332-bf85-c89419f6da22",
   "metadata": {},
   "outputs": [],
   "source": [
    "# Test on |01>\n",
    "test = QuantumCircuit(2) \n",
    "test.x(0) # Remember that numbering of qubits starts from the right\n",
    "test.append(F,[0,1]) \n",
    "state = Statevector.from_int(0, 4) # 4 basis states on 2 qubits \n",
    "state = state.evolve(test) \n",
    "state.draw(\"latex\")"
   ]
  },
  {
   "cell_type": "code",
   "execution_count": null,
   "id": "5b2fafe4-550b-4cda-9e83-d8b9e805b472",
   "metadata": {},
   "outputs": [],
   "source": [
    "# Test on |10>\n",
    "test = QuantumCircuit(2) \n",
    "test.x(1) # Remember that numbering of qubits starts from the right\n",
    "test.append(F,[0,1]) \n",
    "state = Statevector.from_int(0, 4) # 4 basis states on 2 qubits \n",
    "state = state.evolve(test) \n",
    "state.draw(\"latex\")"
   ]
  },
  {
   "cell_type": "code",
   "execution_count": null,
   "id": "71984318-9262-4f11-a349-89e539d850b1",
   "metadata": {},
   "outputs": [],
   "source": [
    "# Test on |11>\n",
    "test = QuantumCircuit(2) \n",
    "test.x(0)\n",
    "test.x(1) \n",
    "test.append(F,[0,1]) \n",
    "state = Statevector.from_int(0, 4) # 4 basis states on 2 qubits \n",
    "state = state.evolve(test) \n",
    "state.draw(\"latex\")"
   ]
  },
  {
   "cell_type": "code",
   "execution_count": 51,
   "id": "cd0e6df7-5fc5-44c9-b83f-c13959c067e8",
   "metadata": {},
   "outputs": [
    {
     "data": {
      "image/png": "[encoded data removed]",
      "text/plain": [
       "<Figure size 538.128x284.278 with 1 Axes>"
      ]
     },
     "execution_count": 51,
     "metadata": {},
     "output_type": "execute_result"
    }
   ],
   "source": [
    "# The circuit for Deutsch's algorithm\n",
    "# There are two qubits but we don't use them as inputs, just start them at |0>\n",
    "# and manipulate them.\n",
    "# One classical bit is used to capture the measurement result.\n",
    "# Fill in the gaps to implement Deutsch's algorithm.\n",
    "\n",
    "deutsch = QuantumCircuit(2,1)\n",
    "# Add gates here to prepare the state that we want to apply F to\n",
    "deutsch.append(F,[0,1]) \n",
    "# Add a gate and a measurement here to complete the circuit\n",
    "deutsch.draw(\"mpl\")"
   ]
  },
  {
   "cell_type": "code",
   "execution_count": 52,
   "id": "482a442d-645c-4756-991a-9939ab221831",
   "metadata": {},
   "outputs": [
    {
     "data": {
      "image/png": "[encoded data removed]",
      "text/plain": [
       "<Figure size 640x480 with 1 Axes>"
      ]
     },
     "execution_count": 52,
     "metadata": {},
     "output_type": "execute_result"
    }
   ],
   "source": [
    "# Now simulate and plot the results.\n",
    "# If f is constant (that is, F0 or F1) the result should always be 0.\n",
    "# if f is balanced (that is, F2 or F3) the result should always be 1.\n",
    "\n",
    "backend = BasicSimulator()\n",
    "compiled = transpile(deutsch, backend)\n",
    "job_sim = backend.run(compiled, shots=32)\n",
    "result_sim = job_sim.result()\n",
    "counts = result_sim.get_counts(compiled)\n",
    "plot_histogram(counts)"
   ]
  },
  {
   "cell_type": "code",
   "execution_count": null,
   "id": "529da47c-a333-496f-ac64-8006e1f0855d",
   "metadata": {},
   "outputs": [],
   "source": []
  }
 ],
 "metadata": {
  "kernelspec": {
   "display_name": "Python 3 [qBraid]",
   "language": "python",
   "name": "python3_qbraid_sdk_9j9sjy"
  },
  "language_info": {
   "codemirror_mode": {
    "name": "ipython",
    "version": 3
   },
   "file_extension": ".py",
   "mimetype": "text/x-python",
   "name": "python",
   "nbconvert_exporter": "python",
   "pygments_lexer": "ipython3",
   "version": "3.11.9"
  }
 },
 "nbformat": 4,
 "nbformat_minor": 5
}
