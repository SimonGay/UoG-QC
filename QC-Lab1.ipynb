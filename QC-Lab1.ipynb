{
 "cells": [
  {
   "cell_type": "code",
   "execution_count": null,
   "id": "0d20664d-7c61-4f4b-99a1-3526ed3bff29",
   "metadata": {},
   "outputs": [],
   "source": [
    "%pip install qiskit-aer==0.15.1"
   ]
  },
  {
   "cell_type": "code",
   "execution_count": null,
   "id": "cba1317e-8e50-49f7-8be2-22712a282311",
   "metadata": {},
   "outputs": [],
   "source": [
    "from qiskit import QuantumCircuit\n",
    "\n",
    "# Create a circuit with one qubit\n",
    "circuit = QuantumCircuit(1)\n",
    "\n",
    "# Add a Hadamard (H) gate on qubit 0, to create a superposition\n",
    "circuit.h(0)\n",
    "\n",
    "# Draw the circuit diagram. Delete \"mpl\" to get a text diagram.\n",
    "circuit.draw(\"mpl\")"
   ]
  },
  {
   "cell_type": "code",
   "execution_count": null,
   "id": "549e6d27-46d9-4641-b226-d774b4e3d037",
   "metadata": {},
   "outputs": [],
   "source": [
    "# Now simulate the circuit by calculating the effect on state vectors.\n",
    "# Set the initial state of the simulator to |0>\n",
    "# The state vector has two coefficients, both 0\n",
    "from qiskit.quantum_info import Statevector\n",
    "\n",
    "state = Statevector.from_int(0, 2)\n",
    "\n",
    "# Apply the circuit to the state\n",
    "state = state.evolve(circuit)\n",
    "\n",
    "# Display using latex. This requires the pylatexenc module.\n",
    "# If you have not installed pylatexenc, go into the qBraid-SDK environment,\n",
    "# select \"More...\" and add it.\n",
    "# Omit \"latex\" to get a numerical (not algebraic) view of the state vector.\n",
    "state.draw(\"latex\")"
   ]
  },
  {
   "cell_type": "code",
   "execution_count": null,
   "id": "c9b9134c-25c8-48f2-83dc-66573aff9323",
   "metadata": {},
   "outputs": [],
   "source": [
    "# A different way of dislaying the state, again using latex\n",
    "from qiskit.visualization import array_to_latex\n",
    "\n",
    "array_to_latex(state)"
   ]
  },
  {
   "cell_type": "code",
   "execution_count": null,
   "id": "c89d4eb3-2aa3-4e11-9e84-91f2a3bcd116",
   "metadata": {},
   "outputs": [],
   "source": [
    "# The whole circuit is a unitary operator, which we can display.\n",
    "from qiskit.quantum_info import Operator\n",
    "\n",
    "U = Operator(circuit)\n",
    "array_to_latex(U)"
   ]
  },
  {
   "cell_type": "code",
   "execution_count": null,
   "id": "9f66ceec-1dd4-47b0-a3f1-15ee9661917f",
   "metadata": {},
   "outputs": [],
   "source": [
    "# Or less beautifully:\n",
    "U.data\n",
    "# The format is a little bit odd. 0.j means the imaginary part is 0\n",
    "# 0 is being displayed with a decimal point but no trailing 0\n",
    "# j is used for the square root of -1, instead of i"
   ]
  },
  {
   "cell_type": "code",
   "execution_count": null,
   "id": "1fb81295-60ae-43fa-a4b0-cebd5e0deee4",
   "metadata": {},
   "outputs": [],
   "source": [
    "# Now reconstruct the circuit and add a measurement\n",
    "# The second parameter of QuantumCircuit is the number of classical bits\n",
    "circuit = QuantumCircuit(1,1)\n",
    "circuit.h(0)\n",
    "\n",
    "# The first list is the qbits to measure,\n",
    "# the second list is the classical bits where the results go\n",
    "circuit.measure([0],[0]) \n",
    "circuit.draw(\"mpl\")"
   ]
  },
  {
   "cell_type": "code",
   "execution_count": null,
   "id": "84f8b3a8-5f1a-4e4c-b27a-096f3fce39c5",
   "metadata": {},
   "outputs": [],
   "source": [
    "# We will need to transpile the circuit into QASM instructions for the back end\n",
    "from qiskit import transpile \n",
    "\n",
    "# Use BasicSimulator\n",
    "from qiskit.providers.basic_provider import BasicSimulator\n",
    "\n",
    "backend = BasicSimulator()\n",
    "\n",
    "# Compile / transpile\n",
    "qc_compiled = transpile(circuit, backend)\n",
    "\n",
    "# Run the circuit on the simulator.\n",
    "# We've set the number of repeats of the circuit\n",
    "# to be 1024, which is the default.\n",
    "job_sim = backend.run(qc_compiled, shots=1024)\n",
    "\n",
    "# Grab the results from the job.\n",
    "result_sim = job_sim.result()"
   ]
  },
  {
   "cell_type": "code",
   "execution_count": null,
   "id": "c29361b1-2119-49d1-bcb2-2fae36a61e50",
   "metadata": {},
   "outputs": [],
   "source": [
    "# The simplest way to see the results of the simulation\n",
    "counts = result_sim.get_counts(qc_compiled)\n",
    "print(counts)\n",
    "\n",
    "# The results are not exactly half 0 and half 1, but should be close.\n",
    "# There will be different results each time the previous cell is run."
   ]
  },
  {
   "cell_type": "code",
   "execution_count": null,
   "id": "b3e0c6b3-e7d7-42c8-adc7-62f9de3271e1",
   "metadata": {},
   "outputs": [],
   "source": [
    "# We can also produce a graph\n",
    "\n",
    "from qiskit.visualization import plot_histogram\n",
    "plot_histogram(counts)"
   ]
  },
  {
   "cell_type": "code",
   "execution_count": null,
   "id": "a830cab4-78ee-4d42-816b-ee6b46b3e7b6",
   "metadata": {},
   "outputs": [],
   "source": [
    "# Now let's move on to two qubits.\n",
    "# Apply H to both qubits and see what we get.\n",
    "\n",
    "circuit = QuantumCircuit(2)\n",
    "circuit.h(0)\n",
    "circuit.h(1)\n",
    "\n",
    "circuit.draw(\"mpl\")"
   ]
  },
  {
   "cell_type": "code",
   "execution_count": null,
   "id": "ce60412d-cfe9-4c8b-91a9-6ce18e25bbaf",
   "metadata": {},
   "outputs": [],
   "source": [
    "state = Statevector.from_int(0, 4) # 4 is the number of basis states on 2 qubits\n",
    "state = state.evolve(circuit)\n",
    "state.draw(\"latex\")"
   ]
  },
  {
   "cell_type": "code",
   "execution_count": null,
   "id": "a202d334-277c-4fee-8b6a-3ac9085a4aa5",
   "metadata": {},
   "outputs": [],
   "source": [
    "# Now measurement. This time we construct the measurement part\n",
    "# of the circuit separately and then combine it with the first circuit.\n",
    "\n",
    "# A new circuit with 2 qubits and 2 classical bits\n",
    "meas = QuantumCircuit(2, 2)\n",
    "\n",
    "# Map the quantum measurement to the classical bits\n",
    "meas.measure(range(2), range(2))\n",
    "\n",
    "# The Qiskit circuit object supports composition.\n",
    "# Here the meas has to be first and front=True (putting it before) \n",
    "# as compose must put a smaller circuit into a larger one.\n",
    "qc = meas.compose(circuit, range(2), front=True)\n",
    "\n",
    "qc.draw(\"mpl\")"
   ]
  },
  {
   "cell_type": "code",
   "execution_count": null,
   "id": "abc42b52-a3e6-4bf3-8fb7-806ce1e78f9c",
   "metadata": {},
   "outputs": [],
   "source": [
    "# Simulate again, using the same back end\n",
    "qc_compiled = transpile(qc, backend)\n",
    "job_sim = backend.run(qc_compiled, shots=1024)\n",
    "result_sim = job_sim.result()\n",
    "counts = result_sim.get_counts(qc_compiled)\n",
    "plot_histogram(counts)"
   ]
  },
  {
   "cell_type": "code",
   "execution_count": null,
   "id": "0b4ff4d0-ca0d-4c73-af03-26f254c90baa",
   "metadata": {},
   "outputs": [],
   "source": [
    "# Now for some entanglement.\n",
    "# Construct a Bell state and measure both qubits to see that \n",
    "# both measurements give the same result.\n",
    "\n",
    "circuit = QuantumCircuit(2,2) \n",
    "circuit.h(0) \n",
    "circuit.cx(0,1) # cx means CNOT because it's a controlled version of x (negation)\n",
    "circuit.measure(range(2),range(2))\n",
    "circuit.draw(\"mpl\")"
   ]
  },
  {
   "cell_type": "code",
   "execution_count": null,
   "id": "aa7c04d0-0cda-43be-8f37-b727f17f9189",
   "metadata": {},
   "outputs": [],
   "source": [
    "qc_compiled = transpile(circuit, backend)\n",
    "job_sim = backend.run(qc_compiled, shots=1024)\n",
    "result_sim = job_sim.result()\n",
    "counts = result_sim.get_counts(qc_compiled)\n",
    "plot_histogram(counts)"
   ]
  },
  {
   "cell_type": "code",
   "execution_count": null,
   "id": "9f8879a9-bbf5-4fd1-bbbe-38d9d1113cd7",
   "metadata": {},
   "outputs": [],
   "source": []
  }
 ],
 "metadata": {
  "kernelspec": {
   "display_name": "Python 3 [qBraid]",
   "language": "python",
   "name": "python3_qbraid_sdk_9j9sjy"
  },
  "language_info": {
   "codemirror_mode": {
    "name": "ipython",
    "version": 3
   },
   "file_extension": ".py",
   "mimetype": "text/x-python",
   "name": "python",
   "nbconvert_exporter": "python",
   "pygments_lexer": "ipython3",
   "version": "3.11.9"
  }
 },
 "nbformat": 4,
 "nbformat_minor": 5
}
