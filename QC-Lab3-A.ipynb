{
 "cells": [
  {
   "cell_type": "code",
   "execution_count": null,
   "id": "9bbbb1f1-8b11-4307-b90a-62f9cc650002",
   "metadata": {},
   "outputs": [],
   "source": [
    "%pip install qiskit==1.2.4\n",
    "%pip install qiskit-aer==0.15.1\n",
    "%pip install pylatexenc==2.10"
   ]
  },
  {
   "cell_type": "code",
   "execution_count": 2,
   "id": "c16cd3de-f076-496b-8661-4b1efd19a244",
   "metadata": {},
   "outputs": [
    {
     "data": {
      "image/png": "[encoded data removed]",
      "text/plain": [
       "<Figure size 640x480 with 1 Axes>"
      ]
     },
     "execution_count": 2,
     "metadata": {},
     "output_type": "execute_result"
    }
   ],
   "source": [
    "from qiskit import QuantumCircuit\n",
    "from qiskit.converters import circuit_to_gate\n",
    "from qiskit.visualization import array_to_latex\n",
    "from qiskit.quantum_info import Operator\n",
    "from qiskit.quantum_info import Statevector\n",
    "from qiskit import transpile \n",
    "from qiskit.providers.basic_provider import BasicSimulator\n",
    "from qiskit.visualization import plot_histogram\n",
    "from qiskit.circuit import ControlledGate\n",
    "\n",
    "# Grover's algorithm\n",
    "# Given a function f : {0,1}^n -> {0,1} such that for some input vector w,\n",
    "# f(w) = 1 and for all x != w, f(x) = 0.\n",
    "# The problem is to find w.\n",
    "\n",
    "# Here we work with 3 qubits\n",
    "\n",
    "# First we need a definition of f.\n",
    "\n",
    "# Let's say f(0,0,0) = 1\n",
    "# Try changing this to represent different search targets (you will need to change the definition of U, below)\n",
    "\n",
    "# Then we need to define a unitary operator U on 3 qubits, such that\n",
    "# U|x> = -|x> if f(x) = 1\n",
    "# U|x> =  |x> if f(x) = 0\n",
    "\n",
    "U = Operator([\n",
    "    [-1, 0, 0, 0, 0, 0, 0, 0],\n",
    "    [0,1, 0, 0, 0, 0, 0, 0],\n",
    "    [0, 0, 1, 0, 0, 0, 0, 0],\n",
    "    [0, 0, 0, 1, 0, 0, 0, 0],\n",
    "    [0, 0, 0, 0, 1, 0, 0, 0],\n",
    "    [0, 0, 0, 0, 0, 1, 0, 0],\n",
    "    [0, 0, 0, 0, 0, 0, 1, 0],\n",
    "    [0, 0, 0, 0, 0, 0, 0, 1]\n",
    "])\n",
    "\n",
    "# Now construct the Grover diffusion operator\n",
    "\n",
    "G_matrix = list(map(lambda x: list(map(lambda y: y/4.0,x)),[ \n",
    "    [-3,1, 1, 1, 1, 1, 1, 1], \n",
    "    [1,-3, 1, 1, 1, 1, 1, 1], \n",
    "    [1, 1,-3, 1, 1, 1, 1, 1], \n",
    "    [1, 1, 1,-3, 1, 1, 1, 1], \n",
    "    [1, 1, 1, 1,-3, 1, 1, 1], \n",
    "    [1, 1, 1, 1, 1,-3, 1, 1], \n",
    "    [1, 1, 1, 1, 1, 1,-3, 1], \n",
    "    [1, 1, 1, 1, 1, 1, 1,-3]\n",
    "]))\n",
    "\n",
    "G = Operator(G_matrix) \n",
    "\n",
    "# Build a circuit with the correct number of iterations hard-coded, in this case 2\n",
    "\n",
    "grover = QuantumCircuit(3) \n",
    "\n",
    "# To get the initial state, apply H to every qubit\n",
    "\n",
    "grover.h(0) \n",
    "grover.h(1) \n",
    "grover.h(2) \n",
    "\n",
    "# Repeatedly apply U then G\n",
    "\n",
    "grover.append(U,[0,1,2])\n",
    "grover.append(G,[0,1,2])\n",
    "grover.append(U,[0,1,2])\n",
    "grover.append(G,[0,1,2])\n",
    "\n",
    "# What if we do too many iterations?\n",
    "\n",
    "#grover.append(U,[0,1,2])\n",
    "#grover.append(G,[0,1,2])\n",
    "\n",
    "# Measure all the qubits - to do that, we don't need to introduce classical bits\n",
    "\n",
    "grover.measure_all() \n",
    "\n",
    "# Simulate and plot results\n",
    "\n",
    "backend = BasicSimulator()\n",
    "compiled = transpile(grover, backend)\n",
    "job_sim = backend.run(compiled, shots=1024)\n",
    "result_sim = job_sim.result()\n",
    "counts = result_sim.get_counts(compiled)\n",
    "plot_histogram(counts)"
   ]
  },
  {
   "cell_type": "code",
   "execution_count": null,
   "id": "529da47c-a333-496f-ac64-8006e1f0855d",
   "metadata": {},
   "outputs": [],
   "source": []
  },
  {
   "cell_type": "code",
   "execution_count": null,
   "id": "6151e6db-216e-49df-9bea-91f77ff27267",
   "metadata": {},
   "outputs": [],
   "source": []
  }
 ],
 "metadata": {
  "kernelspec": {
   "display_name": "Python 3 [qBraid]",
   "language": "python",
   "name": "python3_qbraid_sdk_9j9sjy"
  },
  "language_info": {
   "codemirror_mode": {
    "name": "ipython",
    "version": 3
   },
   "file_extension": ".py",
   "mimetype": "text/x-python",
   "name": "python",
   "nbconvert_exporter": "python",
   "pygments_lexer": "ipython3",
   "version": "3.11.9"
  }
 },
 "nbformat": 4,
 "nbformat_minor": 5
}
