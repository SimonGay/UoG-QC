{
 "cells": [
  {
   "cell_type": "code",
   "execution_count": 1,
   "id": "6fbbc21e-8c27-4569-b6c3-64b521abab04",
   "metadata": {},
   "outputs": [
    {
     "name": "stdout",
     "output_type": "stream",
     "text": [
      "Requirement already satisfied: qiskit==1.2.4 in /home/jovyan/.qbraid/environments/qbraid_sdk_9j9sjy/pyenv/lib/python3.11/site-packages (1.2.4)\n",
      "Requirement already satisfied: rustworkx>=0.15.0 in /home/jovyan/.qbraid/environments/qbraid_sdk_9j9sjy/pyenv/lib/python3.11/site-packages (from qiskit==1.2.4) (0.15.1)\n",
      "Requirement already satisfied: numpy<3,>=1.17 in /home/jovyan/.qbraid/environments/qbraid_sdk_9j9sjy/pyenv/lib/python3.11/site-packages (from qiskit==1.2.4) (1.26.4)\n",
      "Requirement already satisfied: scipy>=1.5 in /home/jovyan/.qbraid/environments/qbraid_sdk_9j9sjy/pyenv/lib/python3.11/site-packages (from qiskit==1.2.4) (1.14.1)\n",
      "Requirement already satisfied: sympy>=1.3 in /home/jovyan/.qbraid/environments/qbraid_sdk_9j9sjy/pyenv/lib/python3.11/site-packages (from qiskit==1.2.4) (1.13.3)\n",
      "Requirement already satisfied: dill>=0.3 in /home/jovyan/.qbraid/environments/qbraid_sdk_9j9sjy/pyenv/lib/python3.11/site-packages (from qiskit==1.2.4) (0.3.9)\n",
      "Requirement already satisfied: python-dateutil>=2.8.0 in /home/jovyan/.qbraid/environments/qbraid_sdk_9j9sjy/pyenv/lib/python3.11/site-packages (from qiskit==1.2.4) (2.9.0.post0)\n",
      "Requirement already satisfied: stevedore>=3.0.0 in /home/jovyan/.qbraid/environments/qbraid_sdk_9j9sjy/pyenv/lib/python3.11/site-packages (from qiskit==1.2.4) (5.3.0)\n",
      "Requirement already satisfied: typing-extensions in /home/jovyan/.qbraid/environments/qbraid_sdk_9j9sjy/pyenv/lib/python3.11/site-packages (from qiskit==1.2.4) (4.12.2)\n",
      "Requirement already satisfied: symengine<0.14,>=0.11 in /home/jovyan/.qbraid/environments/qbraid_sdk_9j9sjy/pyenv/lib/python3.11/site-packages (from qiskit==1.2.4) (0.13.0)\n",
      "Requirement already satisfied: six>=1.5 in /home/jovyan/.qbraid/environments/qbraid_sdk_9j9sjy/pyenv/lib/python3.11/site-packages (from python-dateutil>=2.8.0->qiskit==1.2.4) (1.16.0)\n",
      "Requirement already satisfied: pbr>=2.0.0 in /home/jovyan/.qbraid/environments/qbraid_sdk_9j9sjy/pyenv/lib/python3.11/site-packages (from stevedore>=3.0.0->qiskit==1.2.4) (6.1.0)\n",
      "Requirement already satisfied: mpmath<1.4,>=1.1.0 in /home/jovyan/.qbraid/environments/qbraid_sdk_9j9sjy/pyenv/lib/python3.11/site-packages (from sympy>=1.3->qiskit==1.2.4) (1.3.0)\n",
      "\n",
      "\u001b[1m[\u001b[0m\u001b[34;49mnotice\u001b[0m\u001b[1;39;49m]\u001b[0m\u001b[39;49m A new release of pip is available: \u001b[0m\u001b[31;49m24.2\u001b[0m\u001b[39;49m -> \u001b[0m\u001b[32;49m24.3.1\u001b[0m\n",
      "\u001b[1m[\u001b[0m\u001b[34;49mnotice\u001b[0m\u001b[1;39;49m]\u001b[0m\u001b[39;49m To update, run: \u001b[0m\u001b[32;49mpython -m pip install --upgrade pip\u001b[0m\n",
      "Note: you may need to restart the kernel to use updated packages.\n",
      "Requirement already satisfied: qiskit-aer==0.15.1 in /home/jovyan/.qbraid/environments/qbraid_sdk_9j9sjy/pyenv/lib/python3.11/site-packages (0.15.1)\n",
      "Requirement already satisfied: qiskit>=1.1.0 in /home/jovyan/.qbraid/environments/qbraid_sdk_9j9sjy/pyenv/lib/python3.11/site-packages (from qiskit-aer==0.15.1) (1.2.4)\n",
      "Requirement already satisfied: numpy>=1.16.3 in /home/jovyan/.qbraid/environments/qbraid_sdk_9j9sjy/pyenv/lib/python3.11/site-packages (from qiskit-aer==0.15.1) (1.26.4)\n",
      "Requirement already satisfied: scipy>=1.0 in /home/jovyan/.qbraid/environments/qbraid_sdk_9j9sjy/pyenv/lib/python3.11/site-packages (from qiskit-aer==0.15.1) (1.14.1)\n",
      "Requirement already satisfied: psutil>=5 in /opt/conda/lib/python3.11/site-packages (from qiskit-aer==0.15.1) (5.9.8)\n",
      "Requirement already satisfied: rustworkx>=0.15.0 in /home/jovyan/.qbraid/environments/qbraid_sdk_9j9sjy/pyenv/lib/python3.11/site-packages (from qiskit>=1.1.0->qiskit-aer==0.15.1) (0.15.1)\n",
      "Requirement already satisfied: sympy>=1.3 in /home/jovyan/.qbraid/environments/qbraid_sdk_9j9sjy/pyenv/lib/python3.11/site-packages (from qiskit>=1.1.0->qiskit-aer==0.15.1) (1.13.3)\n",
      "Requirement already satisfied: dill>=0.3 in /home/jovyan/.qbraid/environments/qbraid_sdk_9j9sjy/pyenv/lib/python3.11/site-packages (from qiskit>=1.1.0->qiskit-aer==0.15.1) (0.3.9)\n",
      "Requirement already satisfied: python-dateutil>=2.8.0 in /home/jovyan/.qbraid/environments/qbraid_sdk_9j9sjy/pyenv/lib/python3.11/site-packages (from qiskit>=1.1.0->qiskit-aer==0.15.1) (2.9.0.post0)\n",
      "Requirement already satisfied: stevedore>=3.0.0 in /home/jovyan/.qbraid/environments/qbraid_sdk_9j9sjy/pyenv/lib/python3.11/site-packages (from qiskit>=1.1.0->qiskit-aer==0.15.1) (5.3.0)\n",
      "Requirement already satisfied: typing-extensions in /home/jovyan/.qbraid/environments/qbraid_sdk_9j9sjy/pyenv/lib/python3.11/site-packages (from qiskit>=1.1.0->qiskit-aer==0.15.1) (4.12.2)\n",
      "Requirement already satisfied: symengine<0.14,>=0.11 in /home/jovyan/.qbraid/environments/qbraid_sdk_9j9sjy/pyenv/lib/python3.11/site-packages (from qiskit>=1.1.0->qiskit-aer==0.15.1) (0.13.0)\n",
      "Requirement already satisfied: six>=1.5 in /home/jovyan/.qbraid/environments/qbraid_sdk_9j9sjy/pyenv/lib/python3.11/site-packages (from python-dateutil>=2.8.0->qiskit>=1.1.0->qiskit-aer==0.15.1) (1.16.0)\n",
      "Requirement already satisfied: pbr>=2.0.0 in /home/jovyan/.qbraid/environments/qbraid_sdk_9j9sjy/pyenv/lib/python3.11/site-packages (from stevedore>=3.0.0->qiskit>=1.1.0->qiskit-aer==0.15.1) (6.1.0)\n",
      "Requirement already satisfied: mpmath<1.4,>=1.1.0 in /home/jovyan/.qbraid/environments/qbraid_sdk_9j9sjy/pyenv/lib/python3.11/site-packages (from sympy>=1.3->qiskit>=1.1.0->qiskit-aer==0.15.1) (1.3.0)\n",
      "\n",
      "\u001b[1m[\u001b[0m\u001b[34;49mnotice\u001b[0m\u001b[1;39;49m]\u001b[0m\u001b[39;49m A new release of pip is available: \u001b[0m\u001b[31;49m24.2\u001b[0m\u001b[39;49m -> \u001b[0m\u001b[32;49m24.3.1\u001b[0m\n",
      "\u001b[1m[\u001b[0m\u001b[34;49mnotice\u001b[0m\u001b[1;39;49m]\u001b[0m\u001b[39;49m To update, run: \u001b[0m\u001b[32;49mpython -m pip install --upgrade pip\u001b[0m\n",
      "Note: you may need to restart the kernel to use updated packages.\n",
      "Requirement already satisfied: pylatexenc==2.10 in /home/jovyan/.qbraid/environments/qbraid_sdk_9j9sjy/pyenv/lib/python3.11/site-packages (2.10)\n",
      "\n",
      "\u001b[1m[\u001b[0m\u001b[34;49mnotice\u001b[0m\u001b[1;39;49m]\u001b[0m\u001b[39;49m A new release of pip is available: \u001b[0m\u001b[31;49m24.2\u001b[0m\u001b[39;49m -> \u001b[0m\u001b[32;49m24.3.1\u001b[0m\n",
      "\u001b[1m[\u001b[0m\u001b[34;49mnotice\u001b[0m\u001b[1;39;49m]\u001b[0m\u001b[39;49m To update, run: \u001b[0m\u001b[32;49mpython -m pip install --upgrade pip\u001b[0m\n",
      "Note: you may need to restart the kernel to use updated packages.\n"
     ]
    }
   ],
   "source": [
    "%pip install qiskit==1.2.4\n",
    "%pip install qiskit-aer==0.15.1\n",
    "%pip install pylatexenc==2.10"
   ]
  },
  {
   "cell_type": "code",
   "execution_count": 2,
   "id": "c16cd3de-f076-496b-8661-4b1efd19a244",
   "metadata": {},
   "outputs": [
    {
     "data": {
      "image/png": "[encoded data removed]",
      "text/plain": [
       "<Figure size 161.878x200.667 with 1 Axes>"
      ]
     },
     "execution_count": 2,
     "metadata": {},
     "output_type": "execute_result"
    }
   ],
   "source": [
    "from qiskit import QuantumCircuit\n",
    "from qiskit.converters import circuit_to_gate\n",
    "from qiskit.visualization import array_to_latex\n",
    "from qiskit.quantum_info import Operator\n",
    "from qiskit.quantum_info import Statevector\n",
    "from qiskit import transpile \n",
    "from qiskit.providers.basic_provider import BasicSimulator\n",
    "from qiskit.providers.fake_provider import GenericBackendV2\n",
    "from qiskit.visualization import plot_histogram\n",
    "from qiskit.result import marginal_counts\n",
    "\n",
    "# Superdense coding\n",
    "\n",
    "# The classical 2-bit value is encoded by applying X and/or Z gates\n",
    "\n",
    "sdc = QuantumCircuit(2)\n",
    "\n",
    "# qubits 0 and 1 are the shared entangled state\n",
    "# Alice has qubit 1, Bob has qubit 0\n",
    "\n",
    "# Entangle qubits 0 and 1\n",
    "# Add code here\n",
    "\n",
    "# Encoding by Alice, working on qubit 1\n",
    "\n",
    "# For 00, do nothing\n",
    "\n",
    "# For the other possibilities, add code in one of the three sections\n",
    "\n",
    "# For 01, apply X to qubit 1\n",
    "# Add code here\n",
    "\n",
    "# For 10, apply Z to qubit 1\n",
    "# Add code here\n",
    "\n",
    "# For 11, apply X then Z to qubit 1\n",
    "# Add code here\n",
    "\n",
    "# Decoding by Bob, working on qubits 0 and 1\n",
    "# Add code here\n",
    "\n",
    "\n",
    "sdc.draw(\"mpl\")"
   ]
  },
  {
   "cell_type": "code",
   "execution_count": null,
   "id": "cd0e6df7-5fc5-44c9-b83f-c13959c067e8",
   "metadata": {},
   "outputs": [],
   "source": [
    "state = Statevector.from_int(0, 4)  # 4 basis states on 2 qubits\n",
    "\n",
    "# Apply the circuit to the state\n",
    "state = state.evolve(sdc)\n",
    "\n",
    "# Display using latex. This requires the pylatexenc module.\n",
    "# If you have not installed pylatexenc, go into the qBraid-SDK environment,\n",
    "# select \"More...\" and add it.\n",
    "# Omit \"latex\" to get a numerical (not algebraic) view of the state vector.\n",
    "state.draw(\"latex\")"
   ]
  },
  {
   "cell_type": "code",
   "execution_count": null,
   "id": "79b0ed4b-3b93-4cdd-a65c-9e3d18be721d",
   "metadata": {},
   "outputs": [],
   "source": []
  }
 ],
 "metadata": {
  "kernelspec": {
   "display_name": "Python 3 [qBraid]",
   "language": "python",
   "name": "python3_qbraid_sdk_9j9sjy"
  },
  "language_info": {
   "codemirror_mode": {
    "name": "ipython",
    "version": 3
   },
   "file_extension": ".py",
   "mimetype": "text/x-python",
   "name": "python",
   "nbconvert_exporter": "python",
   "pygments_lexer": "ipython3",
   "version": "3.11.9"
  }
 },
 "nbformat": 4,
 "nbformat_minor": 5
}
