{
 "cells": [
  {
   "cell_type": "code",
   "execution_count": null,
   "id": "4b366353-dfd8-4021-bb53-e4f8144c999d",
   "metadata": {},
   "outputs": [],
   "source": [
    "%pip install qiskit==1.2.4\n",
    "%pip install qiskit-aer==0.15.1\n",
    "%pip install pylatexenc==2.10"
   ]
  },
  {
   "cell_type": "code",
   "execution_count": null,
   "id": "c16cd3de-f076-496b-8661-4b1efd19a244",
   "metadata": {},
   "outputs": [],
   "source": [
    "from qiskit import QuantumCircuit\n",
    "from qiskit.converters import circuit_to_gate\n",
    "from qiskit.visualization import array_to_latex\n",
    "from qiskit.quantum_info import Operator\n",
    "from qiskit.quantum_info import Statevector\n",
    "from qiskit import transpile \n",
    "from qiskit.providers.basic_provider import BasicSimulator\n",
    "from qiskit.providers.fake_provider import GenericBackendV2\n",
    "from qiskit.visualization import plot_histogram\n",
    "from qiskit.result import marginal_counts\n",
    "from qiskit.circuit import ControlledGate\n",
    "from qiskit.circuit.classical import expr\n",
    "import math \n",
    "\n",
    "# Shor code\n",
    "\n",
    "# Implement the Shor code and experiment with it, checking that it can correct bit-flip and phase-flip errors.\n",
    "# You can also try applying some other unitary operator as an error, e.g. H.\n",
    "# You can even construct a unitary operator from a function (as in Lab 3) and apply it as an error.\n",
    "# You need more qubits now, so you will also have to change the simulation and measurement code in the next cell.\n",
    "\n"
   ]
  },
  {
   "cell_type": "code",
   "execution_count": null,
   "id": "529da47c-a333-496f-ac64-8006e1f0855d",
   "metadata": {},
   "outputs": [],
   "source": [
    "# Simulate and plot results\n",
    "\n",
    "backend = GenericBackendV2(num_qubits=5, control_flow=True)\n",
    "compiled = transpile(flip, backend)\n",
    "job_sim = backend.run(compiled, shots=1024)\n",
    "result_sim = job_sim.result()\n",
    "counts = result_sim.get_counts(compiled)\n",
    "# We only want to see the results for bits 2, 3, 4\n",
    "mcounts = marginal_counts(counts,indices=[2,3,4]) \n",
    "plot_histogram(mcounts)"
   ]
  },
  {
   "cell_type": "code",
   "execution_count": null,
   "id": "6151e6db-216e-49df-9bea-91f77ff27267",
   "metadata": {},
   "outputs": [],
   "source": []
  }
 ],
 "metadata": {
  "kernelspec": {
   "display_name": "Python 3 [qBraid]",
   "language": "python",
   "name": "python3_qbraid_sdk_9j9sjy"
  },
  "language_info": {
   "codemirror_mode": {
    "name": "ipython",
    "version": 3
   },
   "file_extension": ".py",
   "mimetype": "text/x-python",
   "name": "python",
   "nbconvert_exporter": "python",
   "pygments_lexer": "ipython3",
   "version": "3.11.9"
  }
 },
 "nbformat": 4,
 "nbformat_minor": 5
}
