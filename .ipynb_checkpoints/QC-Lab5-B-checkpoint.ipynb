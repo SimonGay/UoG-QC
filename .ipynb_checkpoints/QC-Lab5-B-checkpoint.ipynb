{
 "cells": [
  {
   "cell_type": "code",
   "execution_count": null,
   "id": "4b366353-dfd8-4021-bb53-e4f8144c999d",
   "metadata": {},
   "outputs": [],
   "source": [
    "%pip install qiskit==1.2.4\n",
    "%pip install qiskit-aer==0.15.1\n",
    "%pip install pylatexenc==2.10"
   ]
  },
  {
   "cell_type": "code",
   "execution_count": null,
   "id": "c16cd3de-f076-496b-8661-4b1efd19a244",
   "metadata": {},
   "outputs": [],
   "source": [
    "from qiskit import QuantumCircuit\n",
    "from qiskit.converters import circuit_to_gate\n",
    "from qiskit.visualization import array_to_latex\n",
    "from qiskit.quantum_info import Operator\n",
    "from qiskit.quantum_info import Statevector\n",
    "from qiskit import transpile \n",
    "from qiskit.providers.basic_provider import BasicSimulator\n",
    "from qiskit.providers.fake_provider import GenericBackendV2\n",
    "from qiskit.visualization import plot_histogram\n",
    "from qiskit.result import marginal_counts\n",
    "from qiskit.circuit import ControlledGate\n",
    "from qiskit.circuit.classical import expr\n",
    "import math \n",
    "\n",
    "# Three qubit phase-flip error-correcting code\n",
    "\n",
    "# In a similar way to the bit-flip error-correcting code, implement the phase-flip error-correcting code.\n",
    "# Check that the code can correct a single phase flip but not two or more simultaneous phase flips.\n",
    "# What happens if you introduce a bit flip?\n",
    "# The next cell still has the simulation and measurement. Implement the phase flip code on the same qubits\n",
    "# as for the bit flip code, so you can reuse the simulation and measurement.\n",
    "\n"
   ]
  },
  {
   "cell_type": "code",
   "execution_count": null,
   "id": "529da47c-a333-496f-ac64-8006e1f0855d",
   "metadata": {},
   "outputs": [],
   "source": [
    "# Simulate and plot results\n",
    "\n",
    "backend = GenericBackendV2(num_qubits=5, control_flow=True)\n",
    "compiled = transpile(flip, backend)\n",
    "job_sim = backend.run(compiled, shots=1024)\n",
    "result_sim = job_sim.result()\n",
    "counts = result_sim.get_counts(compiled)\n",
    "# We only want to see the results for bits 2, 3, 4\n",
    "mcounts = marginal_counts(counts,indices=[2,3,4]) \n",
    "plot_histogram(mcounts)"
   ]
  },
  {
   "cell_type": "code",
   "execution_count": null,
   "id": "6151e6db-216e-49df-9bea-91f77ff27267",
   "metadata": {},
   "outputs": [],
   "source": []
  }
 ],
 "metadata": {
  "kernelspec": {
   "display_name": "Python 3 [qBraid]",
   "language": "python",
   "name": "python3_qbraid_sdk_9j9sjy"
  },
  "language_info": {
   "codemirror_mode": {
    "name": "ipython",
    "version": 3
   },
   "file_extension": ".py",
   "mimetype": "text/x-python",
   "name": "python",
   "nbconvert_exporter": "python",
   "pygments_lexer": "ipython3",
   "version": "3.11.9"
  }
 },
 "nbformat": 4,
 "nbformat_minor": 5
}
