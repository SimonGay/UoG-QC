{
 "cells": [
  {
   "cell_type": "code",
   "execution_count": 1,
   "id": "4b366353-dfd8-4021-bb53-e4f8144c999d",
   "metadata": {},
   "outputs": [
    {
     "name": "stdout",
     "output_type": "stream",
     "text": [
      "Requirement already satisfied: qiskit==1.2.4 in /home/jovyan/.qbraid/environments/qbraid_sdk_9j9sjy/pyenv/lib/python3.11/site-packages (1.2.4)\n",
      "Requirement already satisfied: rustworkx>=0.15.0 in /home/jovyan/.qbraid/environments/qbraid_sdk_9j9sjy/pyenv/lib/python3.11/site-packages (from qiskit==1.2.4) (0.15.1)\n",
      "Requirement already satisfied: numpy<3,>=1.17 in /home/jovyan/.qbraid/environments/qbraid_sdk_9j9sjy/pyenv/lib/python3.11/site-packages (from qiskit==1.2.4) (1.26.4)\n",
      "Requirement already satisfied: scipy>=1.5 in /home/jovyan/.qbraid/environments/qbraid_sdk_9j9sjy/pyenv/lib/python3.11/site-packages (from qiskit==1.2.4) (1.14.1)\n",
      "Requirement already satisfied: sympy>=1.3 in /home/jovyan/.qbraid/environments/qbraid_sdk_9j9sjy/pyenv/lib/python3.11/site-packages (from qiskit==1.2.4) (1.13.3)\n",
      "Requirement already satisfied: dill>=0.3 in /home/jovyan/.qbraid/environments/qbraid_sdk_9j9sjy/pyenv/lib/python3.11/site-packages (from qiskit==1.2.4) (0.3.9)\n",
      "Requirement already satisfied: python-dateutil>=2.8.0 in /home/jovyan/.qbraid/environments/qbraid_sdk_9j9sjy/pyenv/lib/python3.11/site-packages (from qiskit==1.2.4) (2.9.0.post0)\n",
      "Requirement already satisfied: stevedore>=3.0.0 in /home/jovyan/.qbraid/environments/qbraid_sdk_9j9sjy/pyenv/lib/python3.11/site-packages (from qiskit==1.2.4) (5.3.0)\n",
      "Requirement already satisfied: typing-extensions in /home/jovyan/.qbraid/environments/qbraid_sdk_9j9sjy/pyenv/lib/python3.11/site-packages (from qiskit==1.2.4) (4.12.2)\n",
      "Requirement already satisfied: symengine<0.14,>=0.11 in /home/jovyan/.qbraid/environments/qbraid_sdk_9j9sjy/pyenv/lib/python3.11/site-packages (from qiskit==1.2.4) (0.13.0)\n",
      "Requirement already satisfied: six>=1.5 in /home/jovyan/.qbraid/environments/qbraid_sdk_9j9sjy/pyenv/lib/python3.11/site-packages (from python-dateutil>=2.8.0->qiskit==1.2.4) (1.16.0)\n",
      "Requirement already satisfied: pbr>=2.0.0 in /home/jovyan/.qbraid/environments/qbraid_sdk_9j9sjy/pyenv/lib/python3.11/site-packages (from stevedore>=3.0.0->qiskit==1.2.4) (6.1.0)\n",
      "Requirement already satisfied: mpmath<1.4,>=1.1.0 in /home/jovyan/.qbraid/environments/qbraid_sdk_9j9sjy/pyenv/lib/python3.11/site-packages (from sympy>=1.3->qiskit==1.2.4) (1.3.0)\n",
      "\n",
      "\u001b[1m[\u001b[0m\u001b[34;49mnotice\u001b[0m\u001b[1;39;49m]\u001b[0m\u001b[39;49m A new release of pip is available: \u001b[0m\u001b[31;49m24.2\u001b[0m\u001b[39;49m -> \u001b[0m\u001b[32;49m25.0.1\u001b[0m\n",
      "\u001b[1m[\u001b[0m\u001b[34;49mnotice\u001b[0m\u001b[1;39;49m]\u001b[0m\u001b[39;49m To update, run: \u001b[0m\u001b[32;49mpython -m pip install --upgrade pip\u001b[0m\n",
      "Note: you may need to restart the kernel to use updated packages.\n",
      "Requirement already satisfied: qiskit-aer==0.15.1 in /home/jovyan/.qbraid/environments/qbraid_sdk_9j9sjy/pyenv/lib/python3.11/site-packages (0.15.1)\n",
      "Requirement already satisfied: qiskit>=1.1.0 in /home/jovyan/.qbraid/environments/qbraid_sdk_9j9sjy/pyenv/lib/python3.11/site-packages (from qiskit-aer==0.15.1) (1.2.4)\n",
      "Requirement already satisfied: numpy>=1.16.3 in /home/jovyan/.qbraid/environments/qbraid_sdk_9j9sjy/pyenv/lib/python3.11/site-packages (from qiskit-aer==0.15.1) (1.26.4)\n",
      "Requirement already satisfied: scipy>=1.0 in /home/jovyan/.qbraid/environments/qbraid_sdk_9j9sjy/pyenv/lib/python3.11/site-packages (from qiskit-aer==0.15.1) (1.14.1)\n",
      "Requirement already satisfied: psutil>=5 in /opt/conda/lib/python3.11/site-packages (from qiskit-aer==0.15.1) (5.9.8)\n",
      "Requirement already satisfied: rustworkx>=0.15.0 in /home/jovyan/.qbraid/environments/qbraid_sdk_9j9sjy/pyenv/lib/python3.11/site-packages (from qiskit>=1.1.0->qiskit-aer==0.15.1) (0.15.1)\n",
      "Requirement already satisfied: sympy>=1.3 in /home/jovyan/.qbraid/environments/qbraid_sdk_9j9sjy/pyenv/lib/python3.11/site-packages (from qiskit>=1.1.0->qiskit-aer==0.15.1) (1.13.3)\n",
      "Requirement already satisfied: dill>=0.3 in /home/jovyan/.qbraid/environments/qbraid_sdk_9j9sjy/pyenv/lib/python3.11/site-packages (from qiskit>=1.1.0->qiskit-aer==0.15.1) (0.3.9)\n",
      "Requirement already satisfied: python-dateutil>=2.8.0 in /home/jovyan/.qbraid/environments/qbraid_sdk_9j9sjy/pyenv/lib/python3.11/site-packages (from qiskit>=1.1.0->qiskit-aer==0.15.1) (2.9.0.post0)\n",
      "Requirement already satisfied: stevedore>=3.0.0 in /home/jovyan/.qbraid/environments/qbraid_sdk_9j9sjy/pyenv/lib/python3.11/site-packages (from qiskit>=1.1.0->qiskit-aer==0.15.1) (5.3.0)\n",
      "Requirement already satisfied: typing-extensions in /home/jovyan/.qbraid/environments/qbraid_sdk_9j9sjy/pyenv/lib/python3.11/site-packages (from qiskit>=1.1.0->qiskit-aer==0.15.1) (4.12.2)\n",
      "Requirement already satisfied: symengine<0.14,>=0.11 in /home/jovyan/.qbraid/environments/qbraid_sdk_9j9sjy/pyenv/lib/python3.11/site-packages (from qiskit>=1.1.0->qiskit-aer==0.15.1) (0.13.0)\n",
      "Requirement already satisfied: six>=1.5 in /home/jovyan/.qbraid/environments/qbraid_sdk_9j9sjy/pyenv/lib/python3.11/site-packages (from python-dateutil>=2.8.0->qiskit>=1.1.0->qiskit-aer==0.15.1) (1.16.0)\n",
      "Requirement already satisfied: pbr>=2.0.0 in /home/jovyan/.qbraid/environments/qbraid_sdk_9j9sjy/pyenv/lib/python3.11/site-packages (from stevedore>=3.0.0->qiskit>=1.1.0->qiskit-aer==0.15.1) (6.1.0)\n",
      "Requirement already satisfied: mpmath<1.4,>=1.1.0 in /home/jovyan/.qbraid/environments/qbraid_sdk_9j9sjy/pyenv/lib/python3.11/site-packages (from sympy>=1.3->qiskit>=1.1.0->qiskit-aer==0.15.1) (1.3.0)\n",
      "\n",
      "\u001b[1m[\u001b[0m\u001b[34;49mnotice\u001b[0m\u001b[1;39;49m]\u001b[0m\u001b[39;49m A new release of pip is available: \u001b[0m\u001b[31;49m24.2\u001b[0m\u001b[39;49m -> \u001b[0m\u001b[32;49m25.0.1\u001b[0m\n",
      "\u001b[1m[\u001b[0m\u001b[34;49mnotice\u001b[0m\u001b[1;39;49m]\u001b[0m\u001b[39;49m To update, run: \u001b[0m\u001b[32;49mpython -m pip install --upgrade pip\u001b[0m\n",
      "Note: you may need to restart the kernel to use updated packages.\n",
      "Requirement already satisfied: pylatexenc==2.10 in /home/jovyan/.qbraid/environments/qbraid_sdk_9j9sjy/pyenv/lib/python3.11/site-packages (2.10)\n",
      "\n",
      "\u001b[1m[\u001b[0m\u001b[34;49mnotice\u001b[0m\u001b[1;39;49m]\u001b[0m\u001b[39;49m A new release of pip is available: \u001b[0m\u001b[31;49m24.2\u001b[0m\u001b[39;49m -> \u001b[0m\u001b[32;49m25.0.1\u001b[0m\n",
      "\u001b[1m[\u001b[0m\u001b[34;49mnotice\u001b[0m\u001b[1;39;49m]\u001b[0m\u001b[39;49m To update, run: \u001b[0m\u001b[32;49mpython -m pip install --upgrade pip\u001b[0m\n",
      "Note: you may need to restart the kernel to use updated packages.\n"
     ]
    }
   ],
   "source": [
    "%pip install qiskit==1.2.4\n",
    "%pip install qiskit-aer==0.15.1\n",
    "%pip install pylatexenc==2.10"
   ]
  },
  {
   "cell_type": "code",
   "execution_count": 2,
   "id": "c16cd3de-f076-496b-8661-4b1efd19a244",
   "metadata": {},
   "outputs": [],
   "source": [
    "from qiskit import QuantumCircuit\n",
    "from qiskit.converters import circuit_to_gate\n",
    "from qiskit.visualization import array_to_latex\n",
    "from qiskit.quantum_info import Operator\n",
    "from qiskit.quantum_info import Statevector\n",
    "from qiskit import transpile \n",
    "from qiskit.providers.basic_provider import BasicSimulator\n",
    "from qiskit.providers.fake_provider import GenericBackendV2\n",
    "from qiskit.visualization import plot_histogram\n",
    "from qiskit.result import marginal_counts\n",
    "from qiskit.circuit import ControlledGate\n",
    "from qiskit.circuit.classical import expr\n",
    "import math \n",
    "\n",
    "# Implement the Bernstein-Vazirani algorithm from Lecture 15\n",
    "\n"
   ]
  },
  {
   "cell_type": "code",
   "execution_count": 20,
   "id": "6151e6db-216e-49df-9bea-91f77ff27267",
   "metadata": {},
   "outputs": [],
   "source": [
    "# Utility functions\n",
    "\n",
    "# A list of all bit strings of length n \n",
    "\n",
    "def bit_strings(n): \n",
    "    if n == 0: \n",
    "        return [ [] ]\n",
    "    else:\n",
    "        bs = bit_strings(n-1) \n",
    "        return list(map(lambda x: [0] + x, bs)) + list(map(lambda x: [1] + x, bs))\n",
    "\n",
    "# A list of n zeroes with 1 in position m\n",
    "\n",
    "def single_one(m,n): \n",
    "    x = [0] * n \n",
    "    x[m] = 1 \n",
    "    return x \n",
    "\n",
    "# A list of n zeroes with -1 in position m\n",
    "\n",
    "def single_minus_one(m,n): \n",
    "    x = [0] * n \n",
    "    x[m] = -1 \n",
    "    return x \n",
    "\n",
    "# Working with n qubits, construct a unitary matrix from f \n",
    "\n",
    "def unitary_from_function(f,n):\n",
    "    u = [] \n",
    "    bs = bit_strings(n) \n",
    "    for i in range(2**n):  \n",
    "        if f(bs[i]) == 1:\n",
    "            u = u + [single_minus_one(i,2**n)] \n",
    "        else:\n",
    "            u = u + [single_one(i,2**n)] \n",
    "    return u "
   ]
  },
  {
   "cell_type": "code",
   "execution_count": 22,
   "id": "20d17fb1-87bc-45f5-8ece-9e66eedb947e",
   "metadata": {},
   "outputs": [
    {
     "data": {
      "image/png": "[encoded data removed]",
      "text/plain": [
       "<Figure size 621.739x284.278 with 1 Axes>"
      ]
     },
     "execution_count": 22,
     "metadata": {},
     "output_type": "execute_result"
    }
   ],
   "source": [
    "# In Bernstein-Vazirani, the aim is to find the bit-string s.\n",
    "# We can define an arbitrary s and check that the algorithm finds it.\n",
    "\n",
    "s = [ 0, 1, 1, 0 ] \n",
    "\n",
    "\n",
    "# Define f in terms of s, then define a unitary operator encoding f.\n",
    "\n",
    "n = len(s) \n",
    "\n",
    "# f takes a bit-string of length n\n",
    "\n",
    "def f(x): \n",
    "    r = 0 \n",
    "    for i in range(n): \n",
    "        r = r + s[i]*x[i] \n",
    "    return r%2 \n",
    "\n",
    "U = Operator(unitary_from_function(f,n))\n",
    "\n",
    "# We are working with n qubits and we will need n classical bits for the measurement results.\n",
    "\n",
    "bv = QuantumCircuit(n,n) \n",
    "\n",
    "# Apply H to all qubits to get a uniform superposition\n",
    "\n",
    "for i in range(n): \n",
    "    bv.h(i) \n",
    "\n",
    "# Apply U\n",
    "\n",
    "bv.append(U,range(n)) \n",
    "\n",
    "# Apply H to all qubits again\n",
    "\n",
    "for i in range(n): \n",
    "    bv.h(i) \n",
    "\n",
    "# Measure all qubits\n",
    "\n",
    "bv.measure(range(n),range(n)) \n",
    "\n",
    "# Check the circuit\n",
    "\n",
    "bv.draw(\"mpl\")\n",
    "\n",
    "\n"
   ]
  },
  {
   "cell_type": "code",
   "execution_count": 23,
   "id": "56ac4520-79f5-4657-b86a-30318a227f43",
   "metadata": {},
   "outputs": [
    {
     "data": {
      "image/png": "[encoded data removed]",
      "text/plain": [
       "<Figure size 640x480 with 1 Axes>"
      ]
     },
     "execution_count": 23,
     "metadata": {},
     "output_type": "execute_result"
    }
   ],
   "source": [
    "# Simulate and plot results\n",
    "\n",
    "backend = GenericBackendV2(num_qubits=n, control_flow=True)\n",
    "compiled = transpile(bv, backend)\n",
    "job_sim = backend.run(compiled, shots=128)\n",
    "result_sim = job_sim.result()\n",
    "counts = result_sim.get_counts(compiled)\n",
    "plot_histogram(counts)"
   ]
  },
  {
   "cell_type": "code",
   "execution_count": null,
   "id": "cf1ced63-a52f-4e8d-9da8-1aefd03263df",
   "metadata": {},
   "outputs": [],
   "source": []
  },
  {
   "cell_type": "code",
   "execution_count": null,
   "id": "acdb80f1-9f89-4ebb-ae4c-8b75cce70304",
   "metadata": {},
   "outputs": [],
   "source": []
  }
 ],
 "metadata": {
  "kernelspec": {
   "display_name": "Python 3 [qBraid]",
   "language": "python",
   "name": "python3_qbraid_sdk_9j9sjy"
  },
  "language_info": {
   "codemirror_mode": {
    "name": "ipython",
    "version": 3
   },
   "file_extension": ".py",
   "mimetype": "text/x-python",
   "name": "python",
   "nbconvert_exporter": "python",
   "pygments_lexer": "ipython3",
   "version": "3.11.9"
  }
 },
 "nbformat": 4,
 "nbformat_minor": 5
}
