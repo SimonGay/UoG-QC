{
 "cells": [
  {
   "cell_type": "code",
   "execution_count": null,
   "id": "77c0196e-4446-4466-951c-13e1b59f9642",
   "metadata": {},
   "outputs": [],
   "source": [
    "%pip install qiskit==1.2.4\n",
    "%pip install qiskit-aer==0.15.1\n",
    "%pip install pylatexenc==2.10"
   ]
  },
  {
   "cell_type": "code",
   "execution_count": null,
   "id": "c16cd3de-f076-496b-8661-4b1efd19a244",
   "metadata": {},
   "outputs": [],
   "source": [
    "from qiskit import QuantumCircuit\n",
    "from qiskit.converters import circuit_to_gate\n",
    "from qiskit.visualization import array_to_latex\n",
    "from qiskit.quantum_info import Operator\n",
    "from qiskit.quantum_info import Statevector\n",
    "from qiskit import transpile \n",
    "from qiskit.providers.basic_provider import BasicSimulator\n",
    "from qiskit.visualization import plot_histogram\n",
    "from qiskit.circuit import ControlledGate\n",
    "import math \n",
    "\n",
    "# The aim of this exercise is to simulate the BB84 key distribution protocol (Lecture 7).\n",
    "\n",
    "# Use a quantum circuit to generate a random bit. DO NOT USE ANY STANDARD PYTHON RANDOM NUMBER FUNCTIONS!\n",
    "# Within this function, construct a circuit such that a measurement gives 0 or 1 with equal probability\n",
    "# Simulate the circuit once and extract the result (you will have to find out how to do that).\n",
    "def random():\n",
    "    # Fill in the definition\n",
    "    return # 0 or 1 with equal probability\n",
    "\n",
    "    \n",
    "# The length of the list of bits that Alice will generate\n",
    "# You can change this to experiment with generating keys of different lengths\n",
    "N = 20\n",
    "\n",
    "# Alice generates a random list of N bits\n",
    "# Add code here\n",
    "\n",
    "# Alice generates a random list to determine her choice of basis for each bit\n",
    "# 0 means the standard basis, 1 means the diagonal basis\n",
    "# Add code here\n",
    "\n",
    "# Bob generates a random list to determine his choice of measurement basis for each qubit\n",
    "# Add code here\n",
    "\n",
    "# Bob will measure each qubit, getting a list of bits. Initialise it now and extend it later\n",
    "bobBits = [] \n",
    "\n",
    "# Alice represents each of her bits by a qubit.\n",
    "# Bob will measure each qubit.\n",
    "# We can do this by constructing a circuit for Alice's qubit, then Bob can add the measurement and simulate the circuit.\n",
    "# Do it in a loop, one qubit at a time.\n",
    "# This is not really simulating the communication, but there's only so much we can do within a sequential program.\n",
    "\n",
    "# Add code here\n",
    "\n",
    "# Now construct the shared key by comparing the basis choices\n",
    "sharedKey = [] \n",
    "\n",
    "# Add code here\n",
    "\n",
    "\n",
    "\n",
    "print(\"Shared key (length %i): %s\" % (len(sharedKey), sharedKey)) \n",
    "\n",
    "# Optional: add a stage in which Alice and Bob compare a subset of their bit lists \n",
    "# to check that they really have the same values.\n",
    "# Then add an attacker who measures some of the bits that Alice sends to Bob,\n",
    "# and check that the attack can be detected.\n"
   ]
  },
  {
   "cell_type": "code",
   "execution_count": null,
   "id": "6151e6db-216e-49df-9bea-91f77ff27267",
   "metadata": {},
   "outputs": [],
   "source": []
  },
  {
   "cell_type": "code",
   "execution_count": null,
   "id": "627886c7-3c58-475b-bc54-2c64a912b8b2",
   "metadata": {},
   "outputs": [],
   "source": []
  }
 ],
 "metadata": {
  "kernelspec": {
   "display_name": "Python 3 [qBraid]",
   "language": "python",
   "name": "python3_qbraid_sdk_9j9sjy"
  },
  "language_info": {
   "codemirror_mode": {
    "name": "ipython",
    "version": 3
   },
   "file_extension": ".py",
   "mimetype": "text/x-python",
   "name": "python",
   "nbconvert_exporter": "python",
   "pygments_lexer": "ipython3",
   "version": "3.11.9"
  }
 },
 "nbformat": 4,
 "nbformat_minor": 5
}
