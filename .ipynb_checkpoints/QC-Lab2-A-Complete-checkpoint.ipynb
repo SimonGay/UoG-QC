{
 "cells": [
  {
   "cell_type": "code",
   "execution_count": 2,
   "id": "c16cd3de-f076-496b-8661-4b1efd19a244",
   "metadata": {},
   "outputs": [],
   "source": [
    "from qiskit import QuantumCircuit\n",
    "from qiskit.converters import circuit_to_gate\n",
    "from qiskit.visualization import array_to_latex\n",
    "from qiskit.quantum_info import Operator\n",
    "from qiskit.quantum_info import Statevector\n",
    "from qiskit import transpile \n",
    "from qiskit.providers.basic_provider import BasicSimulator\n",
    "from qiskit.visualization import plot_histogram\n",
    "\n",
    "# Deutsch's algorithm\n",
    "# Given an unknown function f : {0,1} -> {0,1}, work out whether it is constant\n",
    "# or balanced.\n",
    "\n",
    "# There are four possible functions:\n",
    "#\n",
    "# f0 is constant 0\n",
    "# f1 is constant 1\n",
    "# f2 is the identity function\n",
    "# f3 is negation\n",
    "\n",
    "# Deutsch's algorithm works with F, a quantum version of f, defined by\n",
    "#\n",
    "# F|x>|y> = |x>|f(x) XOR y>\n",
    "#\n",
    "# Explicitly define F0, F1, F2, F3 as circuits and convert them to gates.\n",
    "# Ask the students to work out the circuits for F2 and F3, using F0 and F1 as templates.\n",
    "\n",
    "# F0 |x>|y> = |x>|y> so it's the identity function\n",
    "# This means we don't need to add any gates to the circuit, just encapsulate it as a gate.\n",
    "\n",
    "F0_circuit = QuantumCircuit(2)\n",
    "F0 = circuit_to_gate(F0_circuit,label=\"F0\")\n",
    "\n",
    "# F1 |x>|y> = |x>|NOT(y)> so it's implemented by applying X(y)\n",
    "\n",
    "F1_circuit = QuantumCircuit(2)\n",
    "F1_circuit.x(0) # In qiskit, numbering of qubits starts from the right, so y is 0\n",
    "F1 = circuit_to_gate(F1_circuit,label=\"F1\")\n",
    "\n",
    "# F2 |x>|y> = |x>|x XOR y> so it's implemented by applying CX(x,y)\n",
    "\n",
    "F2_circuit = QuantumCircuit(2)\n",
    "F2_circuit.cx(1,0) # Remember that numbering of qubits starts from the right\n",
    "F2 = circuit_to_gate(F2_circuit,label=\"F2\")\n",
    "\n",
    "# F3 |x>|y> = |x>|NOT(x) XOR y> so it's implemented by applying X(x), CX(x,y), X(x)\n",
    "\n",
    "F3_circuit = QuantumCircuit(2)\n",
    "F3_circuit.x(1) # Remember that numbering of qubits starts from the right\n",
    "F3_circuit.cx(1,0)\n",
    "F3_circuit.x(1)\n",
    "F3 = circuit_to_gate(F3_circuit,label=\"F3\")"
   ]
  },
  {
   "cell_type": "code",
   "execution_count": 15,
   "id": "661be3d0-5289-4868-99e3-ab33979b255f",
   "metadata": {},
   "outputs": [],
   "source": [
    "# Choose which function we want to analyse\n",
    "\n",
    "F = F3"
   ]
  },
  {
   "cell_type": "code",
   "execution_count": 16,
   "id": "92fd7709-9e93-4fb5-97c7-b5db84faef68",
   "metadata": {},
   "outputs": [
    {
     "data": {
      "text/latex": [
       "$$ |01\\rangle$$"
      ],
      "text/plain": [
       "<IPython.core.display.Latex object>"
      ]
     },
     "execution_count": 16,
     "metadata": {},
     "output_type": "execute_result"
    }
   ],
   "source": [
    "# Check that F is implemented correctly\n",
    "# In this cell and the next three, make sure you understand why your\n",
    "# definition of F is correct (or not).\n",
    "# Test on |00>\n",
    "test = QuantumCircuit(2) \n",
    "test.append(F,[0,1]) \n",
    "state = Statevector.from_int(0, 4) # 4 basis states on 2 qubits \n",
    "state = state.evolve(test) \n",
    "state.draw(\"latex\")"
   ]
  },
  {
   "cell_type": "code",
   "execution_count": 17,
   "id": "7172dccf-03f5-41b9-9812-0210ca7e9ded",
   "metadata": {},
   "outputs": [
    {
     "data": {
      "text/latex": [
       "$$ |00\\rangle$$"
      ],
      "text/plain": [
       "<IPython.core.display.Latex object>"
      ]
     },
     "execution_count": 17,
     "metadata": {},
     "output_type": "execute_result"
    }
   ],
   "source": [
    "# Test on |01>\n",
    "test = QuantumCircuit(2) \n",
    "test.x(0) # Remember that numbering of qubits starts from the right\n",
    "test.append(F,[0,1]) \n",
    "state = Statevector.from_int(0, 4) # 4 basis states on 2 qubits \n",
    "state = state.evolve(test) \n",
    "state.draw(\"latex\")"
   ]
  },
  {
   "cell_type": "code",
   "execution_count": 18,
   "id": "294c3c9e-a7b3-45d7-a3ac-4fd889c0aaa0",
   "metadata": {},
   "outputs": [
    {
     "data": {
      "text/latex": [
       "$$ |10\\rangle$$"
      ],
      "text/plain": [
       "<IPython.core.display.Latex object>"
      ]
     },
     "execution_count": 18,
     "metadata": {},
     "output_type": "execute_result"
    }
   ],
   "source": [
    "# Test on |10>\n",
    "test = QuantumCircuit(2) \n",
    "test.x(1) # Remember that numbering of qubits starts from the right\n",
    "test.append(F,[0,1]) \n",
    "state = Statevector.from_int(0, 4) # 4 basis states on 2 qubits \n",
    "state = state.evolve(test) \n",
    "state.draw(\"latex\")"
   ]
  },
  {
   "cell_type": "code",
   "execution_count": 19,
   "id": "a9571ae7-fc14-4aa7-888e-d2da0ed65412",
   "metadata": {},
   "outputs": [
    {
     "data": {
      "text/latex": [
       "$$ |11\\rangle$$"
      ],
      "text/plain": [
       "<IPython.core.display.Latex object>"
      ]
     },
     "execution_count": 19,
     "metadata": {},
     "output_type": "execute_result"
    }
   ],
   "source": [
    "# Test on |11>\n",
    "test = QuantumCircuit(2) \n",
    "test.x(0)\n",
    "test.x(1) \n",
    "test.append(F,[0,1]) \n",
    "state = Statevector.from_int(0, 4) # 4 basis states on 2 qubits \n",
    "state = state.evolve(test) \n",
    "state.draw(\"latex\")"
   ]
  },
  {
   "cell_type": "code",
   "execution_count": 13,
   "id": "cd0e6df7-5fc5-44c9-b83f-c13959c067e8",
   "metadata": {},
   "outputs": [
    {
     "data": {
      "image/png": "[encoded data removed]",
      "text/plain": [
       "<Figure size 538.128x284.278 with 1 Axes>"
      ]
     },
     "execution_count": 13,
     "metadata": {},
     "output_type": "execute_result"
    }
   ],
   "source": [
    "# The circuit for Deutsch's algorithm\n",
    "# There are two qubits but we don't use them as inputs, just start them at |0>\n",
    "# and manipulate them.\n",
    "# One classical bit is used to capture the measurement result.\n",
    "# Ask the students to construct this circuit.\n",
    "\n",
    "deutsch = QuantumCircuit(2,1)\n",
    "deutsch.h(0)\n",
    "deutsch.x(1)\n",
    "deutsch.h(1) \n",
    "deutsch.append(F,[0,1]) \n",
    "deutsch.h(0) \n",
    "deutsch.measure([0],[0]) \n",
    "deutsch.draw(\"mpl\")"
   ]
  },
  {
   "cell_type": "code",
   "execution_count": 14,
   "id": "482a442d-645c-4756-991a-9939ab221831",
   "metadata": {},
   "outputs": [
    {
     "data": {
      "image/png": "[encoded data removed]",
      "text/plain": [
       "<Figure size 640x480 with 1 Axes>"
      ]
     },
     "execution_count": 14,
     "metadata": {},
     "output_type": "execute_result"
    }
   ],
   "source": [
    "# Now simulate and plot the results.\n",
    "# If f is constant (that is, F0 or F1) the result should always be 0.\n",
    "# if f is balanced (that is, F2 or F3) the result should always be 1.\n",
    "\n",
    "backend = BasicSimulator()\n",
    "compiled = transpile(deutsch, backend)\n",
    "job_sim = backend.run(compiled, shots=32)\n",
    "result_sim = job_sim.result()\n",
    "counts = result_sim.get_counts(compiled)\n",
    "plot_histogram(counts)"
   ]
  },
  {
   "cell_type": "code",
   "execution_count": null,
   "id": "529da47c-a333-496f-ac64-8006e1f0855d",
   "metadata": {},
   "outputs": [],
   "source": []
  }
 ],
 "metadata": {
  "kernelspec": {
   "display_name": "Python 3 [qBraid]",
   "language": "python",
   "name": "python3_qbraid_sdk_9j9sjy"
  },
  "language_info": {
   "codemirror_mode": {
    "name": "ipython",
    "version": 3
   },
   "file_extension": ".py",
   "mimetype": "text/x-python",
   "name": "python",
   "nbconvert_exporter": "python",
   "pygments_lexer": "ipython3",
   "version": "3.11.9"
  }
 },
 "nbformat": 4,
 "nbformat_minor": 5
}
