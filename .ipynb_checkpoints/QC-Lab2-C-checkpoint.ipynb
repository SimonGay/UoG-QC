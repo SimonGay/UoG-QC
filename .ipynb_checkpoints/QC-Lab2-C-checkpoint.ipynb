{
 "cells": [
  {
   "cell_type": "code",
   "execution_count": null,
   "id": "6fbbc21e-8c27-4569-b6c3-64b521abab04",
   "metadata": {},
   "outputs": [],
   "source": [
    "%pip install qiskit==1.2.4\n",
    "%pip install qiskit-aer==0.15.1\n",
    "%pip install pylatexenc==2.10"
   ]
  },
  {
   "cell_type": "code",
   "execution_count": 15,
   "id": "c16cd3de-f076-496b-8661-4b1efd19a244",
   "metadata": {},
   "outputs": [
    {
     "data": {
      "image/png": "[encoded data removed]",
      "text/plain": [
       "<Figure size 621.739x200.667 with 1 Axes>"
      ]
     },
     "execution_count": 15,
     "metadata": {},
     "output_type": "execute_result"
    }
   ],
   "source": [
    "from qiskit import QuantumCircuit\n",
    "from qiskit.converters import circuit_to_gate\n",
    "from qiskit.visualization import array_to_latex\n",
    "from qiskit.quantum_info import Operator\n",
    "from qiskit.quantum_info import Statevector\n",
    "from qiskit import transpile \n",
    "from qiskit.providers.basic_provider import BasicSimulator\n",
    "from qiskit.providers.fake_provider import GenericBackendV2\n",
    "from qiskit.visualization import plot_histogram\n",
    "from qiskit.result import marginal_counts\n",
    "\n",
    "# Superdense coding\n",
    "\n",
    "# The classical 2-bit value is encoded by applying X and/or Z gates\n",
    "\n",
    "sdc = QuantumCircuit(2)\n",
    "\n",
    "# qubits 0 and 1 are the shared entangled state\n",
    "# Alice has qubit 1, Bob has qubit 0\n",
    "\n",
    "# Entangle qubits 0 and 1\n",
    "# Add code here\n",
    "\n",
    "# Encoding by Alice, working on qubit 1\n",
    "\n",
    "# For 00, do nothing\n",
    "\n",
    "# For the other possibilities, add code in one of the three sections\n",
    "\n",
    "# For 01, apply X to qubit 1\n",
    "# Add code here\n",
    "\n",
    "# For 10, apply Z to qubit 1\n",
    "# Add code here\n",
    "\n",
    "# For 11, apply X then Z to qubit 1\n",
    "# Add code here\n",
    "\n",
    "# Decoding by Bob, working on qubits 0 and 1\n",
    "\n",
    "sdc.cx(1,0) \n",
    "sdc.h(1) \n",
    "\n",
    "sdc.draw(\"mpl\")"
   ]
  },
  {
   "cell_type": "code",
   "execution_count": 16,
   "id": "cd0e6df7-5fc5-44c9-b83f-c13959c067e8",
   "metadata": {},
   "outputs": [
    {
     "data": {
      "text/latex": [
       "$$ |11\\rangle$$"
      ],
      "text/plain": [
       "<IPython.core.display.Latex object>"
      ]
     },
     "execution_count": 16,
     "metadata": {},
     "output_type": "execute_result"
    }
   ],
   "source": [
    "state = Statevector.from_int(0, 4)  # 4 basis states on 2 qubits\n",
    "\n",
    "# Apply the circuit to the state\n",
    "state = state.evolve(sdc)\n",
    "\n",
    "# Display using latex. This requires the pylatexenc module.\n",
    "# If you have not installed pylatexenc, go into the qBraid-SDK environment,\n",
    "# select \"More...\" and add it.\n",
    "# Omit \"latex\" to get a numerical (not algebraic) view of the state vector.\n",
    "state.draw(\"latex\")"
   ]
  },
  {
   "cell_type": "code",
   "execution_count": null,
   "id": "79b0ed4b-3b93-4cdd-a65c-9e3d18be721d",
   "metadata": {},
   "outputs": [],
   "source": []
  }
 ],
 "metadata": {
  "kernelspec": {
   "display_name": "Python 3 [qBraid]",
   "language": "python",
   "name": "python3_qbraid_sdk_9j9sjy"
  },
  "language_info": {
   "codemirror_mode": {
    "name": "ipython",
    "version": 3
   },
   "file_extension": ".py",
   "mimetype": "text/x-python",
   "name": "python",
   "nbconvert_exporter": "python",
   "pygments_lexer": "ipython3",
   "version": "3.11.9"
  }
 },
 "nbformat": 4,
 "nbformat_minor": 5
}
