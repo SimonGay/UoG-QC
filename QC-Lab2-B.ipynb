{
 "cells": [
  {
   "cell_type": "code",
   "execution_count": null,
   "id": "a086e25b-5957-40ac-be77-c816f0b0fd70",
   "metadata": {},
   "outputs": [],
   "source": [
    "%pip install qiskit==1.2.4\n",
    "%pip install qiskit-aer==0.15.1\n",
    "%pip install pylatexenc==2.10"
   ]
  },
  {
   "cell_type": "code",
   "execution_count": null,
   "id": "c16cd3de-f076-496b-8661-4b1efd19a244",
   "metadata": {},
   "outputs": [],
   "source": [
    "from qiskit import QuantumCircuit\n",
    "from qiskit.converters import circuit_to_gate\n",
    "from qiskit.visualization import array_to_latex\n",
    "from qiskit.quantum_info import Operator\n",
    "from qiskit import transpile \n",
    "from qiskit.providers.basic_provider import BasicSimulator\n",
    "from qiskit.providers.fake_provider import GenericBackendV2\n",
    "from qiskit.visualization import plot_histogram\n",
    "from qiskit.result import marginal_counts\n",
    "\n",
    "# Teleportation\n",
    "\n",
    "teleport = QuantumCircuit(3,3)\n",
    "\n",
    "# qubit 0 is the state to be teleported from Alice\n",
    "# qubits 1 and 2 are the shared entangled state\n",
    "# Alice has qubit 1, Bob has qubit 2\n",
    "\n",
    "# Add gates here to entangle qubits 1 and 2\n",
    "\n",
    "\n",
    "# Add gates here to entangle qubit 0 with the others\n",
    "\n",
    "\n",
    "# Measure qubits 0 and 1 and put the results on classical bits 0 and 1\n",
    "teleport.measure([0,1],[0,1])\n",
    "\n",
    "# Fix up the final state of qubit 2, depending on the measurement results\n",
    "with teleport.if_test((1, 1)):\n",
    "    teleport.x(2)\n",
    "with teleport.if_test((0, 1)):\n",
    "    teleport.z(2)\n",
    "\n",
    "# Measure qubit 2 and put the result on classical bit 2\n",
    "teleport.measure([2],[2])\n",
    "\n",
    "# Check the circuit\n",
    "teleport.draw(\"mpl\")"
   ]
  },
  {
   "cell_type": "code",
   "execution_count": null,
   "id": "cd0e6df7-5fc5-44c9-b83f-c13959c067e8",
   "metadata": {},
   "outputs": [],
   "source": [
    "# Use a circuit to put qubit 0 into the state that we want to teleport,\n",
    "# and compose it into the main circuit.\n",
    "\n",
    "prep = QuantumCircuit(1) \n",
    "# Add a gate here to put qubit 0 into some state other than |0> \n",
    "\n",
    "teleport = teleport.compose(prep, [0], front=True)\n",
    "teleport.draw(\"mpl\")"
   ]
  },
  {
   "cell_type": "code",
   "execution_count": null,
   "id": "482a442d-645c-4756-991a-9939ab221831",
   "metadata": {},
   "outputs": [],
   "source": [
    "# Now simulate and plot the results.\n",
    "# In general this won't tell us that we have exactly the right state,\n",
    "# just that we get the right measurement statistics.\n",
    "# We are interested in the result on classical bit 2, which is the most significant bit (leftmost).\n",
    "# The simulator adds some noise, so we get some non-zero probabilities for parts of bit 2 that shouldn't be there.\n",
    "# To see results without noise, add the parameter noise_info=False to GenericBackendV2\n",
    "\n",
    "backend = GenericBackendV2(num_qubits=3, control_flow=True)\n",
    "compiled = transpile(teleport, backend)\n",
    "job_sim = backend.run(compiled, shots=1024)\n",
    "result_sim = job_sim.result()\n",
    "counts = result_sim.get_counts(compiled)\n",
    "mcounts = marginal_counts(counts,indices=[2]) # We only want to see the results for bit 2\n",
    "plot_histogram(mcounts)"
   ]
  },
  {
   "cell_type": "code",
   "execution_count": null,
   "id": "529da47c-a333-496f-ac64-8006e1f0855d",
   "metadata": {},
   "outputs": [],
   "source": [
    "# Come back to this box if you have time after working through QC-Lab2-C\n",
    "\n",
    "# Teleportation has an interesting feature which is not usually\n",
    "# included in the description.\n",
    "\n",
    "# If the qubit being teleported is entangled with other qubits, then after\n",
    "# teleportation it is still entangled in the same way.\n",
    "\n",
    "# Try this out!\n",
    "# You will need to introduce another qubit and entangle it with qubit 0.\n",
    "# After teleporting, work out how to use measurements to convince yourself that qubit 2 is entangled with the extra qubit.\n",
    "# You can do this in a similar way to the last part of Lab1."
   ]
  }
 ],
 "metadata": {
  "kernelspec": {
   "display_name": "Python 3 [qBraid]",
   "language": "python",
   "name": "python3_qbraid_sdk_9j9sjy"
  },
  "language_info": {
   "codemirror_mode": {
    "name": "ipython",
    "version": 3
   },
   "file_extension": ".py",
   "mimetype": "text/x-python",
   "name": "python",
   "nbconvert_exporter": "python",
   "pygments_lexer": "ipython3",
   "version": "3.11.9"
  }
 },
 "nbformat": 4,
 "nbformat_minor": 5
}
